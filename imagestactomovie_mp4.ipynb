{
 "cells": [
  {
   "cell_type": "code",
   "execution_count": 11,
   "metadata": {},
   "outputs": [
    {
     "name": "stdout",
     "output_type": "stream",
     "text": [
      "written\n"
     ]
    }
   ],
   "source": [
    "\"\"\"\n",
    "230216に作成しました\n",
    "参考URL\n",
    "・Python3+OpenCVを使って連番画像から動画を作る(https://qiita.com/penpenpen/items/acfa194cee45190cd8f3)\n",
    "・Pythonで連番画像の読み込み(str/format/glob)（https://cvtech.cc/str-format-glob/）\n",
    "・Python3+OpenCVで静止画から動画を作成する（https://qiita.com/moshi/items/cc7fd0b3c1b008c56a13）\n",
    "・OpenCV – VideoCapture、VideoWriter の使い方（https://pystyle.info/opencv-videoio/）\n",
    "\n",
    "\"\"\"\n",
    "\n",
    "import sys\n",
    "import cv2\n",
    "import glob\n",
    "\n",
    "files = glob.glob(\"\") # パスの指定（たぶん日本語不可）ex) D:\\230215\\liposome/* (アスタリスク*がワイルドカード文字となり、ファイル全てをリストアップ)\n",
    "\n",
    "# エンコード（今回はmp4）\n",
    "fourcc = cv2.VideoWriter_fourcc('m', 'p', '4', 'v')\n",
    "\n",
    "# フレームレート（今回は30 fps）\n",
    "fps = 30.0\n",
    "\n",
    "img_side = 640 # 画像サイズ（横）\n",
    "img_height = 480 # 画像サイズ（縦）\n",
    "\n",
    "# file name, encoder, fps, size(fit to image size)\n",
    "video = cv2.VideoWriter('video.mp4',fourcc, fps, (img_side, img_height))\n",
    "\n",
    "if not video.isOpened():\n",
    "    print(\"can't be opened\")\n",
    "    sys.exit()\n",
    "\n",
    "for i in files:\n",
    "    # filesの画像を読み込んでいく\n",
    "    img = cv2.imread(i)\n",
    "\n",
    "    # 画像を読み込めなかった場合は\"can't read\"\n",
    "    if img is None:\n",
    "        print(\"can't read\")\n",
    "        break\n",
    "\n",
    "    # videoに画像が加わっていく\n",
    "    video.write(img)\n",
    "\n",
    "video.release()\n",
    "print('written')\n"
   ]
  },
  {
   "cell_type": "code",
   "execution_count": null,
   "metadata": {},
   "outputs": [],
   "source": []
  }
 ],
 "metadata": {
  "kernelspec": {
   "display_name": "base",
   "language": "python",
   "name": "python3"
  },
  "language_info": {
   "codemirror_mode": {
    "name": "ipython",
    "version": 3
   },
   "file_extension": ".py",
   "mimetype": "text/x-python",
   "name": "python",
   "nbconvert_exporter": "python",
   "pygments_lexer": "ipython3",
   "version": "3.8.5"
  },
  "orig_nbformat": 4,
  "vscode": {
   "interpreter": {
    "hash": "cc749f52a070da2eeb0c990becf257aaf41ee02634240052a077f3e48bea0e2b"
   }
  }
 },
 "nbformat": 4,
 "nbformat_minor": 2
}
